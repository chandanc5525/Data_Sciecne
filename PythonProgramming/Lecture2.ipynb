{
 "cells": [
  {
   "cell_type": "code",
   "execution_count": 1,
   "id": "f129c27e",
   "metadata": {},
   "outputs": [],
   "source": [
    "str = 'Hello World, Welcome to the World of Python Progamming'"
   ]
  },
  {
   "cell_type": "code",
   "execution_count": 2,
   "id": "340fb986",
   "metadata": {},
   "outputs": [
    {
     "name": "stdout",
     "output_type": "stream",
     "text": [
      " \n",
      "r\n",
      "m\n"
     ]
    }
   ],
   "source": [
    "# Concept of Indexing\n",
    "\n",
    "print(str[5])\n",
    "print(str[8])\n",
    "print(str[-4])"
   ]
  },
  {
   "cell_type": "code",
   "execution_count": 3,
   "id": "28a2278a",
   "metadata": {},
   "outputs": [
    {
     "name": "stdout",
     "output_type": "stream",
     "text": [
      "Hello World, Welcome to the World of Python Progamming\n",
      "Hell\n",
      "am\n",
      "HloWrd ecm oteWrdo yhnPoamn\n",
      "Hello World, Welcome to the World of Python Progamming\n",
      "gnimmagorP nohtyP fo dlroW eht ot emocleW ,dlroW olleH\n"
     ]
    }
   ],
   "source": [
    "# Concept of Slicing \n",
    "''' \n",
    "str[start:stop:step]\n",
    "'''\n",
    "print(str[:])\n",
    "print(str[:4])\n",
    "print(str[-6:-4])\n",
    "print(str[::2])\n",
    "print(str[::])\n",
    "print(str[::-1])"
   ]
  },
  {
   "cell_type": "code",
   "execution_count": 4,
   "id": "bd42779c",
   "metadata": {},
   "outputs": [
    {
     "name": "stdout",
     "output_type": "stream",
     "text": [
      "<class 'str'>\n"
     ]
    }
   ],
   "source": [
    "print(type(str))"
   ]
  },
  {
   "cell_type": "code",
   "execution_count": null,
   "id": "a47b64ed",
   "metadata": {},
   "outputs": [
    {
     "name": "stdout",
     "output_type": "stream",
     "text": [
      "HELLO WORLD\n",
      "hello world\n",
      "11\n"
     ]
    }
   ],
   "source": [
    "string = 'Hello World'\n",
    "\n",
    "print(string.upper()) \n",
    "print(string.lower())\n",
    "print(len(string))"
   ]
  },
  {
   "cell_type": "code",
   "execution_count": 19,
   "id": "8743b123",
   "metadata": {},
   "outputs": [
    {
     "name": "stdout",
     "output_type": "stream",
     "text": [
      "Idai ra o\n",
      "yr\n",
      "dir n\n"
     ]
    }
   ],
   "source": [
    "s = 'India is great country'\n",
    "\n",
    "print(s[:-5:2])\n",
    "print(s[:-3:-1])\n",
    "print(s[2:-2:4])"
   ]
  }
 ],
 "metadata": {
  "kernelspec": {
   "display_name": "base",
   "language": "python",
   "name": "python3"
  },
  "language_info": {
   "codemirror_mode": {
    "name": "ipython",
    "version": 3
   },
   "file_extension": ".py",
   "mimetype": "text/x-python",
   "name": "python",
   "nbconvert_exporter": "python",
   "pygments_lexer": "ipython3",
   "version": "3.12.7"
  }
 },
 "nbformat": 4,
 "nbformat_minor": 5
}
