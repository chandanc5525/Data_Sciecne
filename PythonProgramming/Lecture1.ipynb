{
 "cells": [
  {
   "cell_type": "markdown",
   "id": "fe541e87",
   "metadata": {},
   "source": [
    "## Introduction"
   ]
  },
  {
   "cell_type": "code",
   "execution_count": 1,
   "id": "703c4123",
   "metadata": {},
   "outputs": [],
   "source": [
    "# Data Types Used in Python Programming\n",
    "\n",
    "''' \n",
    "1. int: Integer\n",
    "2. float : Decimal values\n",
    "3. String : Text Information \n",
    "4. Boolean : True or False\n",
    "'''\n",
    "# Data Type Definition\n",
    "# = : Assignment Operator\n",
    "num = 100\n",
    "num1 = 100.345\n",
    "str = 'Hello World'\n",
    "boolean = True\n",
    "boolean1 = False"
   ]
  },
  {
   "cell_type": "code",
   "execution_count": 2,
   "id": "182393f7",
   "metadata": {},
   "outputs": [
    {
     "name": "stdout",
     "output_type": "stream",
     "text": [
      "100\n"
     ]
    }
   ],
   "source": [
    "print(num)"
   ]
  },
  {
   "cell_type": "code",
   "execution_count": 3,
   "id": "444d8b24",
   "metadata": {},
   "outputs": [
    {
     "name": "stdout",
     "output_type": "stream",
     "text": [
      "num\n"
     ]
    }
   ],
   "source": [
    "print('num')"
   ]
  },
  {
   "cell_type": "code",
   "execution_count": 4,
   "id": "aab9a1fb",
   "metadata": {},
   "outputs": [
    {
     "data": {
      "text/plain": [
       "200.345"
      ]
     },
     "execution_count": 4,
     "metadata": {},
     "output_type": "execute_result"
    }
   ],
   "source": [
    "num + num1"
   ]
  },
  {
   "cell_type": "code",
   "execution_count": 8,
   "id": "bfe6a60e",
   "metadata": {},
   "outputs": [
    {
     "name": "stdout",
     "output_type": "stream",
     "text": [
      "1234556789\n",
      "1234512345\n"
     ]
    }
   ],
   "source": [
    "a = '12345'\n",
    "b = '56789'\n",
    "c = 2\n",
    "\n",
    "print(a+b)\n",
    "print(a*c)"
   ]
  },
  {
   "cell_type": "code",
   "execution_count": 10,
   "id": "0cd64a61",
   "metadata": {},
   "outputs": [
    {
     "name": "stdout",
     "output_type": "stream",
     "text": [
      "10003000\n"
     ]
    }
   ],
   "source": [
    "# Input Function\n",
    "\n",
    "num1 = input('Enter the First Number :')\n",
    "num2 = input('Enter the Second Number: ')\n",
    "\n",
    "print(num1 + num2)"
   ]
  },
  {
   "cell_type": "code",
   "execution_count": 13,
   "id": "4f6329a0",
   "metadata": {},
   "outputs": [
    {
     "name": "stdout",
     "output_type": "stream",
     "text": [
      "103.14444\n"
     ]
    }
   ],
   "source": [
    "# Input Function\n",
    "# Use TypeCasting : Converting String to Integer\n",
    "\n",
    "num1 = float(input('Enter the First Number :'))\n",
    "num2 = float(input('Enter the Second Number: '))\n",
    "\n",
    "print(num1 + num2)"
   ]
  },
  {
   "cell_type": "code",
   "execution_count": 14,
   "id": "c3c006b0",
   "metadata": {},
   "outputs": [
    {
     "name": "stdout",
     "output_type": "stream",
     "text": [
      "The Entered Name of the Person is Sachin having age is 23.0\n"
     ]
    }
   ],
   "source": [
    "# f string method\n",
    "name = input('Enter the Name: ')\n",
    "age = float(input('Enter the Age in Years: '))\n",
    "\n",
    "print(f'The Entered Name of the Person is {name} having age is {age}')"
   ]
  },
  {
   "cell_type": "code",
   "execution_count": null,
   "id": "216a5356",
   "metadata": {},
   "outputs": [],
   "source": []
  }
 ],
 "metadata": {
  "kernelspec": {
   "display_name": "base",
   "language": "python",
   "name": "python3"
  },
  "language_info": {
   "codemirror_mode": {
    "name": "ipython",
    "version": 3
   },
   "file_extension": ".py",
   "mimetype": "text/x-python",
   "name": "python",
   "nbconvert_exporter": "python",
   "pygments_lexer": "ipython3",
   "version": "3.12.7"
  }
 },
 "nbformat": 4,
 "nbformat_minor": 5
}
