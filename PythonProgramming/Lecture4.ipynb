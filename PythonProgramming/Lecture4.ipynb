{
 "cells": [
  {
   "cell_type": "code",
   "execution_count": 1,
   "id": "1149f9d6",
   "metadata": {},
   "outputs": [],
   "source": [
    "# Tuple: Data Structure of Python Programming\n",
    "# Tuple is Immutable whereas List is Mutable\n",
    "\n",
    "tup = () # Define tuple : tup()\n",
    "tup = (1,2,3,4,5,6,7)\n",
    "tup = ('Hii','Hello','Bye','Welcome')\n",
    "tup = (1.11,2.222,3.43434)\n",
    "tup = (True,False)"
   ]
  },
  {
   "cell_type": "code",
   "execution_count": 2,
   "id": "1874a6d1",
   "metadata": {},
   "outputs": [],
   "source": [
    "tup = (10,20,30,2.121,4343.232323,'Helloworld',True,False)"
   ]
  },
  {
   "cell_type": "code",
   "execution_count": 3,
   "id": "8b9e8354",
   "metadata": {},
   "outputs": [
    {
     "data": {
      "text/plain": [
       "1"
      ]
     },
     "execution_count": 3,
     "metadata": {},
     "output_type": "execute_result"
    }
   ],
   "source": [
    "tup.count(20)"
   ]
  },
  {
   "cell_type": "code",
   "execution_count": 4,
   "id": "93038aa6",
   "metadata": {},
   "outputs": [
    {
     "data": {
      "text/plain": [
       "2"
      ]
     },
     "execution_count": 4,
     "metadata": {},
     "output_type": "execute_result"
    }
   ],
   "source": [
    "tup.index(30)"
   ]
  },
  {
   "cell_type": "code",
   "execution_count": 5,
   "id": "e7c1e6fb",
   "metadata": {},
   "outputs": [
    {
     "name": "stdout",
     "output_type": "stream",
     "text": [
      "[600, 700]\n"
     ]
    }
   ],
   "source": [
    "# Using Concept of Indexing and Slicing\n",
    "tup = (100,200,(300,400,[500,600,700,800],1,2,3),4,5)\n",
    "print(tup[2][2][1:3])"
   ]
  },
  {
   "cell_type": "code",
   "execution_count": 6,
   "id": "f7f8d8c7",
   "metadata": {},
   "outputs": [
    {
     "name": "stdout",
     "output_type": "stream",
     "text": [
      "{'Country': ['India', 'USA', 'UK'], 'GDP': [9, 6, 8]}\n"
     ]
    }
   ],
   "source": [
    "# Dictionary : Data Structure of Python Programming\n",
    "# Dictionary is Mutable in Nature\n",
    "'''\n",
    "dict = {'Key': Value}\n",
    "'''\n",
    "d = {'Country':['India','USA','UK'],\n",
    "     'GDP': [9,6,8]}\n",
    "\n",
    "print(d)"
   ]
  },
  {
   "cell_type": "code",
   "execution_count": 7,
   "id": "8ca5aed4",
   "metadata": {},
   "outputs": [
    {
     "data": {
      "text/plain": [
       "['India', 'USA', 'UK']"
      ]
     },
     "execution_count": 7,
     "metadata": {},
     "output_type": "execute_result"
    }
   ],
   "source": [
    "# Using Concept of Indexing\n",
    "d['Country']"
   ]
  },
  {
   "cell_type": "code",
   "execution_count": 8,
   "id": "af289c19",
   "metadata": {},
   "outputs": [
    {
     "data": {
      "text/plain": [
       "'USA'"
      ]
     },
     "execution_count": 8,
     "metadata": {},
     "output_type": "execute_result"
    }
   ],
   "source": [
    "d['Country'][1]"
   ]
  },
  {
   "cell_type": "code",
   "execution_count": 9,
   "id": "83d442c0",
   "metadata": {},
   "outputs": [
    {
     "data": {
      "text/plain": [
       "8"
      ]
     },
     "execution_count": 9,
     "metadata": {},
     "output_type": "execute_result"
    }
   ],
   "source": [
    "d['GDP'][2]"
   ]
  },
  {
   "cell_type": "code",
   "execution_count": 10,
   "id": "2182ce81",
   "metadata": {},
   "outputs": [
    {
     "data": {
      "text/plain": [
       "[9, 6]"
      ]
     },
     "execution_count": 10,
     "metadata": {},
     "output_type": "execute_result"
    }
   ],
   "source": [
    "d['GDP'][:2]"
   ]
  },
  {
   "cell_type": "code",
   "execution_count": 11,
   "id": "cd4d77b2",
   "metadata": {},
   "outputs": [],
   "source": [
    "d.clear()"
   ]
  },
  {
   "cell_type": "code",
   "execution_count": 12,
   "id": "13615abe",
   "metadata": {},
   "outputs": [
    {
     "data": {
      "text/plain": [
       "{}"
      ]
     },
     "execution_count": 12,
     "metadata": {},
     "output_type": "execute_result"
    }
   ],
   "source": [
    "d"
   ]
  },
  {
   "cell_type": "code",
   "execution_count": 13,
   "id": "00263d53",
   "metadata": {},
   "outputs": [],
   "source": [
    "d = {'Country':['India','USA','UK'],\n",
    "     'GDP': [9,6,8]}"
   ]
  },
  {
   "cell_type": "code",
   "execution_count": 14,
   "id": "5927af99",
   "metadata": {},
   "outputs": [
    {
     "data": {
      "text/plain": [
       "dict_keys(['Country', 'GDP'])"
      ]
     },
     "execution_count": 14,
     "metadata": {},
     "output_type": "execute_result"
    }
   ],
   "source": [
    "d.keys()"
   ]
  },
  {
   "cell_type": "code",
   "execution_count": 15,
   "id": "0742c274",
   "metadata": {},
   "outputs": [
    {
     "data": {
      "text/plain": [
       "dict_items([('Country', ['India', 'USA', 'UK']), ('GDP', [9, 6, 8])])"
      ]
     },
     "execution_count": 15,
     "metadata": {},
     "output_type": "execute_result"
    }
   ],
   "source": [
    "d.items()"
   ]
  },
  {
   "cell_type": "code",
   "execution_count": 16,
   "id": "ee639da1",
   "metadata": {},
   "outputs": [
    {
     "data": {
      "text/plain": [
       "dict_values([['India', 'USA', 'UK'], [9, 6, 8]])"
      ]
     },
     "execution_count": 16,
     "metadata": {},
     "output_type": "execute_result"
    }
   ],
   "source": [
    "d.values()"
   ]
  },
  {
   "cell_type": "code",
   "execution_count": 17,
   "id": "e07f37d5",
   "metadata": {},
   "outputs": [
    {
     "data": {
      "text/plain": [
       "'UK'"
      ]
     },
     "execution_count": 17,
     "metadata": {},
     "output_type": "execute_result"
    }
   ],
   "source": [
    "d['Country'].pop()"
   ]
  },
  {
   "cell_type": "code",
   "execution_count": 18,
   "id": "4b8038d7",
   "metadata": {},
   "outputs": [
    {
     "name": "stdout",
     "output_type": "stream",
     "text": [
      "{'Country': ['India', 'USA'], 'GDP': [9, 6, 8]}\n"
     ]
    }
   ],
   "source": [
    "print(d)"
   ]
  },
  {
   "cell_type": "code",
   "execution_count": 19,
   "id": "433366a8",
   "metadata": {},
   "outputs": [
    {
     "name": "stdout",
     "output_type": "stream",
     "text": [
      "(1, 2, 3, 4, 5, 6, 7, 8)\n"
     ]
    }
   ],
   "source": [
    "tup1 = (1,2,3,4)\n",
    "tup2 = (5,6,7,8)\n",
    "print(tup1+tup2)"
   ]
  },
  {
   "cell_type": "code",
   "execution_count": 20,
   "id": "9dec18cc",
   "metadata": {},
   "outputs": [
    {
     "name": "stdout",
     "output_type": "stream",
     "text": [
      "<class 'tuple'>\n"
     ]
    }
   ],
   "source": [
    "e = tup1*3\n",
    "print(type(e))"
   ]
  },
  {
   "cell_type": "code",
   "execution_count": 21,
   "id": "1f424389",
   "metadata": {},
   "outputs": [
    {
     "name": "stdout",
     "output_type": "stream",
     "text": [
      "<class 'str'>\n",
      "12341234123412341234\n"
     ]
    }
   ],
   "source": [
    "a = '1234'\n",
    "b = '3456'\n",
    "c = 5\n",
    "d = a*c\n",
    "print(type(a*c))\n",
    "print(d)"
   ]
  },
  {
   "cell_type": "code",
   "execution_count": 22,
   "id": "eede99ef",
   "metadata": {},
   "outputs": [
    {
     "name": "stdout",
     "output_type": "stream",
     "text": [
      "0\n",
      "1\n",
      "2\n",
      "3\n",
      "4\n",
      "5\n",
      "6\n",
      "7\n",
      "8\n",
      "9\n"
     ]
    }
   ],
   "source": [
    "# Loops\n",
    "for i in range(0,10):\n",
    "    print(i) "
   ]
  },
  {
   "cell_type": "code",
   "execution_count": 23,
   "id": "c926aeab",
   "metadata": {},
   "outputs": [
    {
     "name": "stdout",
     "output_type": "stream",
     "text": [
      "0 1 2 3 4 5 6 7 8 9 "
     ]
    }
   ],
   "source": [
    "for i in range(0,10):\n",
    "    print(i,end = ' ')"
   ]
  },
  {
   "cell_type": "code",
   "execution_count": 24,
   "id": "ae3204f4",
   "metadata": {},
   "outputs": [
    {
     "name": "stdout",
     "output_type": "stream",
     "text": [
      "Num is sdasdasdasdasd\n"
     ]
    }
   ],
   "source": [
    "# If Else Logic\n",
    "num  = 400\n",
    "if num <=200:\n",
    "    print('Num is less than 200')\n",
    "elif num > 300 and num <500:\n",
    "    print('Num is sdasdasdasdasd')\n",
    "else:\n",
    "    print('Num is greater than 200')"
   ]
  },
  {
   "cell_type": "code",
   "execution_count": 25,
   "id": "3d0daee0",
   "metadata": {},
   "outputs": [
    {
     "name": "stdout",
     "output_type": "stream",
     "text": [
      "Average Student\n"
     ]
    }
   ],
   "source": [
    "''' \n",
    "Step1 : Enter the marks from User\n",
    "Step2 : Logic Building\n",
    "        80 >= Bright Student\n",
    "        60 and 79 : Good Student\n",
    "        40 and 59 : Average Student\n",
    "        below 39  : Weak Student \n",
    "'''\n",
    "marks = float(input('Enter the Marks: '))\n",
    "\n",
    "if marks >= 80:\n",
    "        print('Bright Student')\n",
    "elif marks > 60 and marks < 79:\n",
    "        print('Good Student')\n",
    "elif marks > 40 and marks < 59:\n",
    "        print('Average Student')\n",
    "else:\n",
    "        print('Weak Student')\n",
    "\n"
   ]
  },
  {
   "cell_type": "code",
   "execution_count": 26,
   "id": "0926a1de",
   "metadata": {},
   "outputs": [
    {
     "name": "stdout",
     "output_type": "stream",
     "text": [
      "Entered String is not a Palindrom\n"
     ]
    }
   ],
   "source": [
    "# Print whether the given string is Palindrom or not\n",
    "''' \n",
    "Step1 : Input a string from user\n",
    "Step2 : \n",
    "       string = Text\n",
    "       string1 = string[::-1]\n",
    "       if condition:\n",
    "       else :\n",
    "           condition\n",
    "       \n",
    "'''\n",
    "string = input('Enter the String: ')\n",
    "string1 = string[::-1]\n",
    "\n",
    "if string.lower() == string1.lower():\n",
    "    print('The Entered String is Palindrom')\n",
    "else:\n",
    "    print('Entered String is not a Palindrom')"
   ]
  },
  {
   "cell_type": "code",
   "execution_count": 33,
   "id": "2d24bea9",
   "metadata": {},
   "outputs": [
    {
     "name": "stdout",
     "output_type": "stream",
     "text": [
      "*\n",
      "**\n",
      "***\n",
      "****\n",
      "*****\n",
      "******\n"
     ]
    }
   ],
   "source": [
    "''' \n",
    "*\n",
    "**\n",
    "***\n",
    "****\n",
    "*****\n",
    "******\n",
    "'''\n",
    "\n",
    "for i in range(1,7):\n",
    "    print(i*'*')"
   ]
  },
  {
   "cell_type": "code",
   "execution_count": 27,
   "id": "7179a1fb",
   "metadata": {},
   "outputs": [
    {
     "data": {
      "text/plain": [
       "215.0"
      ]
     },
     "execution_count": 27,
     "metadata": {},
     "output_type": "execute_result"
    }
   ],
   "source": [
    "# PEMDAS\n",
    "(100*2+(30/2))"
   ]
  },
  {
   "cell_type": "code",
   "execution_count": 28,
   "id": "029406e1",
   "metadata": {},
   "outputs": [
    {
     "data": {
      "text/plain": [
       "215"
      ]
     },
     "execution_count": 28,
     "metadata": {},
     "output_type": "execute_result"
    }
   ],
   "source": [
    "(100*2+(30//2))"
   ]
  },
  {
   "cell_type": "code",
   "execution_count": 29,
   "id": "fa5ffc47",
   "metadata": {},
   "outputs": [
    {
     "data": {
      "text/plain": [
       "400"
      ]
     },
     "execution_count": 29,
     "metadata": {},
     "output_type": "execute_result"
    }
   ],
   "source": [
    "20**2"
   ]
  },
  {
   "cell_type": "code",
   "execution_count": 34,
   "id": "05ac618d",
   "metadata": {},
   "outputs": [
    {
     "data": {
      "text/plain": [
       "300"
      ]
     },
     "execution_count": 34,
     "metadata": {},
     "output_type": "execute_result"
    }
   ],
   "source": [
    "100+200"
   ]
  },
  {
   "cell_type": "code",
   "execution_count": 35,
   "id": "2ccb5eed",
   "metadata": {},
   "outputs": [
    {
     "data": {
      "text/plain": [
       "100"
      ]
     },
     "execution_count": 35,
     "metadata": {},
     "output_type": "execute_result"
    }
   ],
   "source": [
    "300 -200"
   ]
  },
  {
   "cell_type": "code",
   "execution_count": 41,
   "id": "031eddc0",
   "metadata": {},
   "outputs": [
    {
     "data": {
      "text/plain": [
       "50.0"
      ]
     },
     "execution_count": 41,
     "metadata": {},
     "output_type": "execute_result"
    }
   ],
   "source": [
    "# / : Answer will be in Float\n",
    "100/2"
   ]
  },
  {
   "cell_type": "code",
   "execution_count": 42,
   "id": "44fc6d7a",
   "metadata": {},
   "outputs": [
    {
     "data": {
      "text/plain": [
       "50"
      ]
     },
     "execution_count": 42,
     "metadata": {},
     "output_type": "execute_result"
    }
   ],
   "source": [
    "# // : Answer will be in int\n",
    "\n",
    "100//2"
   ]
  },
  {
   "cell_type": "code",
   "execution_count": null,
   "id": "a6dbb8f4",
   "metadata": {},
   "outputs": [
    {
     "data": {
      "text/plain": [
       "0"
      ]
     },
     "execution_count": 43,
     "metadata": {},
     "output_type": "execute_result"
    }
   ],
   "source": [
    "# Moduleo Operator\n",
    "100%2"
   ]
  },
  {
   "cell_type": "code",
   "execution_count": 44,
   "id": "213981da",
   "metadata": {},
   "outputs": [
    {
     "data": {
      "text/plain": [
       "1"
      ]
     },
     "execution_count": 44,
     "metadata": {},
     "output_type": "execute_result"
    }
   ],
   "source": [
    "1000%3"
   ]
  },
  {
   "cell_type": "code",
   "execution_count": null,
   "id": "8fcbefc7",
   "metadata": {},
   "outputs": [],
   "source": [
    "# Exponent Operator: **\n",
    "\n",
    "print(10**2)\n",
    "print(4**0.5)"
   ]
  },
  {
   "cell_type": "code",
   "execution_count": 45,
   "id": "0d759273",
   "metadata": {},
   "outputs": [
    {
     "data": {
      "text/plain": [
       "432"
      ]
     },
     "execution_count": 45,
     "metadata": {},
     "output_type": "execute_result"
    }
   ],
   "source": [
    "(10**2+345-23+(20//2))"
   ]
  },
  {
   "cell_type": "code",
   "execution_count": null,
   "id": "8251cb43",
   "metadata": {},
   "outputs": [
    {
     "name": "stdout",
     "output_type": "stream",
     "text": [
      "Entered Number is Odd\n"
     ]
    }
   ],
   "source": [
    "''' \n",
    "Step1: Ask the user to enter the value\n",
    "Step2: Check whether the number is even or not\n",
    "'''\n",
    "def num():\n",
    "    num = float(input('Enter the Number: '))\n",
    "    if num % 2 == 0:\n",
    "        print('Entered Number is Even')\n",
    "    else:\n",
    "        print('Entered Number is Odd')\n",
    "        \n",
    "num()"
   ]
  },
  {
   "cell_type": "code",
   "execution_count": null,
   "id": "824a4340",
   "metadata": {},
   "outputs": [
    {
     "name": "stdout",
     "output_type": "stream",
     "text": [
      "hii\n",
      "world\n",
      "python\n"
     ]
    }
   ],
   "source": [
    "a = ['Hii',\"World\",\"Python\"]\n",
    "for i in a:\n",
    "    print(i.lower())"
   ]
  }
 ],
 "metadata": {
  "kernelspec": {
   "display_name": "base",
   "language": "python",
   "name": "python3"
  },
  "language_info": {
   "codemirror_mode": {
    "name": "ipython",
    "version": 3
   },
   "file_extension": ".py",
   "mimetype": "text/x-python",
   "name": "python",
   "nbconvert_exporter": "python",
   "pygments_lexer": "ipython3",
   "version": "3.12.7"
  }
 },
 "nbformat": 4,
 "nbformat_minor": 5
}
