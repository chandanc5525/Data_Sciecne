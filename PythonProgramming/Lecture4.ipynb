{
 "cells": [
  {
   "cell_type": "code",
   "execution_count": 3,
   "id": "1149f9d6",
   "metadata": {},
   "outputs": [],
   "source": [
    "# Tuple: Data Structure of Python Programming\n",
    "# Tuple is Immutable whereas List is Mutable\n",
    "\n",
    "tup = () # Define tuple : tup()\n",
    "tup = (1,2,3,4,5,6,7)\n",
    "tup = ('Hii','Hello','Bye','Welcome')\n",
    "tup = (1.11,2.222,3.43434)\n",
    "tup = (True,False)"
   ]
  },
  {
   "cell_type": "code",
   "execution_count": 4,
   "id": "1874a6d1",
   "metadata": {},
   "outputs": [],
   "source": [
    "tup = (10,20,30,2.121,4343.232323,'Helloworld',True,False)"
   ]
  },
  {
   "cell_type": "code",
   "execution_count": 5,
   "id": "8b9e8354",
   "metadata": {},
   "outputs": [
    {
     "data": {
      "text/plain": [
       "1"
      ]
     },
     "execution_count": 5,
     "metadata": {},
     "output_type": "execute_result"
    }
   ],
   "source": [
    "tup.count(20)"
   ]
  },
  {
   "cell_type": "code",
   "execution_count": 6,
   "id": "93038aa6",
   "metadata": {},
   "outputs": [
    {
     "data": {
      "text/plain": [
       "2"
      ]
     },
     "execution_count": 6,
     "metadata": {},
     "output_type": "execute_result"
    }
   ],
   "source": [
    "tup.index(30)"
   ]
  },
  {
   "cell_type": "code",
   "execution_count": 10,
   "id": "e7c1e6fb",
   "metadata": {},
   "outputs": [
    {
     "name": "stdout",
     "output_type": "stream",
     "text": [
      "[600, 700]\n"
     ]
    }
   ],
   "source": [
    "# Using Concept of Indexing and Slicing\n",
    "tup = (100,200,(300,400,[500,600,700,800],1,2,3),4,5)\n",
    "print(tup[2][2][1:3])"
   ]
  },
  {
   "cell_type": "code",
   "execution_count": null,
   "id": "f7f8d8c7",
   "metadata": {},
   "outputs": [
    {
     "name": "stdout",
     "output_type": "stream",
     "text": [
      "{'Country': ['India', 'USA', 'UK'], 'GDP': [9, 6, 8]}\n"
     ]
    }
   ],
   "source": [
    "# Dictionary : Data Structure of Python Programming\n",
    "# Dictionary is Mutable in Nature\n",
    "'''\n",
    "dict = {'Key': Value}\n",
    "'''\n",
    "d = {'Country':['India','USA','UK'],\n",
    "     'GDP': [9,6,8]}\n",
    "\n",
    "print(d)"
   ]
  },
  {
   "cell_type": "code",
   "execution_count": 16,
   "id": "8ca5aed4",
   "metadata": {},
   "outputs": [
    {
     "data": {
      "text/plain": [
       "['India', 'USA', 'UK']"
      ]
     },
     "execution_count": 16,
     "metadata": {},
     "output_type": "execute_result"
    }
   ],
   "source": [
    "# Using Concept of Indexing\n",
    "d['Country']"
   ]
  },
  {
   "cell_type": "code",
   "execution_count": 17,
   "id": "af289c19",
   "metadata": {},
   "outputs": [
    {
     "data": {
      "text/plain": [
       "'USA'"
      ]
     },
     "execution_count": 17,
     "metadata": {},
     "output_type": "execute_result"
    }
   ],
   "source": [
    "d['Country'][1]"
   ]
  },
  {
   "cell_type": "code",
   "execution_count": 18,
   "id": "83d442c0",
   "metadata": {},
   "outputs": [
    {
     "data": {
      "text/plain": [
       "8"
      ]
     },
     "execution_count": 18,
     "metadata": {},
     "output_type": "execute_result"
    }
   ],
   "source": [
    "d['GDP'][2]"
   ]
  },
  {
   "cell_type": "code",
   "execution_count": 21,
   "id": "2182ce81",
   "metadata": {},
   "outputs": [
    {
     "data": {
      "text/plain": [
       "[9, 6]"
      ]
     },
     "execution_count": 21,
     "metadata": {},
     "output_type": "execute_result"
    }
   ],
   "source": [
    "d['GDP'][:2]"
   ]
  },
  {
   "cell_type": "code",
   "execution_count": 22,
   "id": "cd4d77b2",
   "metadata": {},
   "outputs": [],
   "source": [
    "d.clear()"
   ]
  },
  {
   "cell_type": "code",
   "execution_count": 23,
   "id": "13615abe",
   "metadata": {},
   "outputs": [
    {
     "data": {
      "text/plain": [
       "{}"
      ]
     },
     "execution_count": 23,
     "metadata": {},
     "output_type": "execute_result"
    }
   ],
   "source": [
    "d"
   ]
  },
  {
   "cell_type": "code",
   "execution_count": 24,
   "id": "00263d53",
   "metadata": {},
   "outputs": [],
   "source": [
    "d = {'Country':['India','USA','UK'],\n",
    "     'GDP': [9,6,8]}"
   ]
  },
  {
   "cell_type": "code",
   "execution_count": 25,
   "id": "5927af99",
   "metadata": {},
   "outputs": [
    {
     "data": {
      "text/plain": [
       "dict_keys(['Country', 'GDP'])"
      ]
     },
     "execution_count": 25,
     "metadata": {},
     "output_type": "execute_result"
    }
   ],
   "source": [
    "d.keys()"
   ]
  },
  {
   "cell_type": "code",
   "execution_count": 26,
   "id": "0742c274",
   "metadata": {},
   "outputs": [
    {
     "data": {
      "text/plain": [
       "dict_items([('Country', ['India', 'USA', 'UK']), ('GDP', [9, 6, 8])])"
      ]
     },
     "execution_count": 26,
     "metadata": {},
     "output_type": "execute_result"
    }
   ],
   "source": [
    "d.items()"
   ]
  },
  {
   "cell_type": "code",
   "execution_count": 27,
   "id": "ee639da1",
   "metadata": {},
   "outputs": [
    {
     "data": {
      "text/plain": [
       "dict_values([['India', 'USA', 'UK'], [9, 6, 8]])"
      ]
     },
     "execution_count": 27,
     "metadata": {},
     "output_type": "execute_result"
    }
   ],
   "source": [
    "d.values()"
   ]
  },
  {
   "cell_type": "code",
   "execution_count": 29,
   "id": "e07f37d5",
   "metadata": {},
   "outputs": [
    {
     "data": {
      "text/plain": [
       "'UK'"
      ]
     },
     "execution_count": 29,
     "metadata": {},
     "output_type": "execute_result"
    }
   ],
   "source": [
    "d['Country'].pop()"
   ]
  },
  {
   "cell_type": "code",
   "execution_count": 30,
   "id": "4b8038d7",
   "metadata": {},
   "outputs": [
    {
     "name": "stdout",
     "output_type": "stream",
     "text": [
      "{'Country': ['India', 'USA'], 'GDP': [9, 6, 8]}\n"
     ]
    }
   ],
   "source": [
    "print(d)"
   ]
  }
 ],
 "metadata": {
  "kernelspec": {
   "display_name": "base",
   "language": "python",
   "name": "python3"
  },
  "language_info": {
   "codemirror_mode": {
    "name": "ipython",
    "version": 3
   },
   "file_extension": ".py",
   "mimetype": "text/x-python",
   "name": "python",
   "nbconvert_exporter": "python",
   "pygments_lexer": "ipython3",
   "version": "3.12.7"
  }
 },
 "nbformat": 4,
 "nbformat_minor": 5
}
